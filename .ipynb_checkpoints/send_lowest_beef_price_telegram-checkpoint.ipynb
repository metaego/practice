{
 "cells": [
  {
   "cell_type": "markdown",
   "id": "1aa61459-8548-4be8-8d64-6a40a1d54b0a",
   "metadata": {},
   "source": [
    "해당 프로그램은 `네이버 쇼핑몰에서 상품 서치를 통해 최저가를 찾은 후 텔레그램으로 정보 전송하는 앱`입니다.<br>\n",
    "순서는 아래와 같이 작성되었습니다.\n",
    "\n",
    "1. 네이버 open api를 통해 쇼핑몰에서 상품을 검색한 후, 필요한 데이터 정보만을 dataFrame에 저장\n",
    "2. 최저가 쇼핑몰만 찾아서 dataFrame에 저장\n",
    "3. 네이버 쇼핑 검색 결과 및 최저가 쇼핑몰 정보를 텔레그램에 전송"
   ]
  },
  {
   "cell_type": "markdown",
   "id": "9dc4138f-98f3-42a0-8f1b-2c956b7b9df3",
   "metadata": {},
   "source": [
    "### 1. 네이버 open api를 통해 쇼핑몰에서 상품을 검색한 후, 필요한 데이터 정보만을 dataFrame에 저장"
   ]
  },
  {
   "cell_type": "code",
   "execution_count": 3,
   "id": "fa49005a-40f8-481f-a1a2-797d31d99c71",
   "metadata": {},
   "outputs": [
    {
     "name": "stdin",
     "output_type": "stream",
     "text": [
      "쇼핑할 쇠고기 이름을 입력하세요:  한우\n",
      "최대 몇개까지 보여드릴까요?(최대값: 100):  100\n"
     ]
    },
    {
     "name": "stdout",
     "output_type": "stream",
     "text": [
      "잠시만 기다려주세요\n",
      "총 100 건이 검색되었습니다.\n"
     ]
    },
    {
     "data": {
      "text/html": [
       "<div>\n",
       "<style scoped>\n",
       "    .dataframe tbody tr th:only-of-type {\n",
       "        vertical-align: middle;\n",
       "    }\n",
       "\n",
       "    .dataframe tbody tr th {\n",
       "        vertical-align: top;\n",
       "    }\n",
       "\n",
       "    .dataframe thead th {\n",
       "        text-align: right;\n",
       "    }\n",
       "</style>\n",
       "<table border=\"1\" class=\"dataframe\">\n",
       "  <thead>\n",
       "    <tr style=\"text-align: right;\">\n",
       "      <th></th>\n",
       "      <th>title</th>\n",
       "      <th>lprice</th>\n",
       "      <th>mallName</th>\n",
       "      <th>link</th>\n",
       "      <th>category4</th>\n",
       "    </tr>\n",
       "  </thead>\n",
       "  <tbody>\n",
       "    <tr>\n",
       "      <th>0</th>\n",
       "      <td>++1 마장동 한우 선물세트 투뿔 등심 소고기 선물 구이용 세트</td>\n",
       "      <td>109000</td>\n",
       "      <td>예담우</td>\n",
       "      <td>https://search.shopping.naver.com/gate.nhn?id=...</td>\n",
       "      <td>한우</td>\n",
       "    </tr>\n",
       "    <tr>\n",
       "      <th>1</th>\n",
       "      <td>투뿔 숙성한우 등심 안심 갈비살 부채살 골라담기 구이용 모듬</td>\n",
       "      <td>29900</td>\n",
       "      <td>화려한우</td>\n",
       "      <td>https://search.shopping.naver.com/gate.nhn?id=...</td>\n",
       "      <td>한우</td>\n",
       "    </tr>\n",
       "    <tr>\n",
       "      <th>2</th>\n",
       "      <td>투뿔 마장동 한우 선물세트 꽃등심 명절 설 추석 구이용</td>\n",
       "      <td>149500</td>\n",
       "      <td>푸른유통 우리한우</td>\n",
       "      <td>https://search.shopping.naver.com/gate.nhn?id=...</td>\n",
       "      <td>한우</td>\n",
       "    </tr>\n",
       "    <tr>\n",
       "      <th>3</th>\n",
       "      <td>++1등급 한우 선물 세트 투뿔 소고기 구이용 명절 추석 설</td>\n",
       "      <td>109950</td>\n",
       "      <td>엄마네한우</td>\n",
       "      <td>https://search.shopping.naver.com/gate.nhn?id=...</td>\n",
       "      <td>한우</td>\n",
       "    </tr>\n",
       "    <tr>\n",
       "      <th>4</th>\n",
       "      <td>[이겼소] 평점4.9 한우/국내산 육회 육사시미 뭉티기 300g 신선한 냉장 마장동...</td>\n",
       "      <td>9500</td>\n",
       "      <td>이겼소</td>\n",
       "      <td>https://search.shopping.naver.com/gate.nhn?id=...</td>\n",
       "      <td>한우</td>\n",
       "    </tr>\n",
       "    <tr>\n",
       "      <th>...</th>\n",
       "      <td>...</td>\n",
       "      <td>...</td>\n",
       "      <td>...</td>\n",
       "      <td>...</td>\n",
       "      <td>...</td>\n",
       "    </tr>\n",
       "    <tr>\n",
       "      <th>95</th>\n",
       "      <td>1등급이상 한우 소고기 잡육 양지 일반 국거리 뒷고기 소고기국 국거리용 더예쁜한우</td>\n",
       "      <td>17890</td>\n",
       "      <td>더예쁜한우</td>\n",
       "      <td>https://search.shopping.naver.com/gate.nhn?id=...</td>\n",
       "      <td>한우</td>\n",
       "    </tr>\n",
       "    <tr>\n",
       "      <th>96</th>\n",
       "      <td>투뿔 한우1000g 고기케이크 송년회 크리스마스 명절 한우케이크 선물 첫인사</td>\n",
       "      <td>144000</td>\n",
       "      <td>우리참한우</td>\n",
       "      <td>https://search.shopping.naver.com/gate.nhn?id=...</td>\n",
       "      <td>한우</td>\n",
       "    </tr>\n",
       "    <tr>\n",
       "      <th>97</th>\n",
       "      <td>전라도 한우암소 1+등급 불고기용 400g (불고기 샤브샤브용 선택)</td>\n",
       "      <td>11200</td>\n",
       "      <td>진성한우</td>\n",
       "      <td>https://search.shopping.naver.com/gate.nhn?id=...</td>\n",
       "      <td>한우</td>\n",
       "    </tr>\n",
       "    <tr>\n",
       "      <th>98</th>\n",
       "      <td>[보령한우마트] 한우 우설 구이용 500g</td>\n",
       "      <td>45000</td>\n",
       "      <td>보령한우 여물</td>\n",
       "      <td>https://search.shopping.naver.com/gate.nhn?id=...</td>\n",
       "      <td>한우</td>\n",
       "    </tr>\n",
       "    <tr>\n",
       "      <th>99</th>\n",
       "      <td>마장동 1++한우 모듬 특수부위 600g 투뿔 소고기</td>\n",
       "      <td>59000</td>\n",
       "      <td>우메종</td>\n",
       "      <td>https://search.shopping.naver.com/gate.nhn?id=...</td>\n",
       "      <td>한우</td>\n",
       "    </tr>\n",
       "  </tbody>\n",
       "</table>\n",
       "<p>100 rows × 5 columns</p>\n",
       "</div>"
      ],
      "text/plain": [
       "                                                title  lprice   mallName  \\\n",
       "0                 ++1 마장동 한우 선물세트 투뿔 등심 소고기 선물 구이용 세트  109000        예담우   \n",
       "1                   투뿔 숙성한우 등심 안심 갈비살 부채살 골라담기 구이용 모듬   29900       화려한우   \n",
       "2                      투뿔 마장동 한우 선물세트 꽃등심 명절 설 추석 구이용  149500  푸른유통 우리한우   \n",
       "3                   ++1등급 한우 선물 세트 투뿔 소고기 구이용 명절 추석 설  109950      엄마네한우   \n",
       "4   [이겼소] 평점4.9 한우/국내산 육회 육사시미 뭉티기 300g 신선한 냉장 마장동...    9500        이겼소   \n",
       "..                                                ...     ...        ...   \n",
       "95      1등급이상 한우 소고기 잡육 양지 일반 국거리 뒷고기 소고기국 국거리용 더예쁜한우   17890      더예쁜한우   \n",
       "96         투뿔 한우1000g 고기케이크 송년회 크리스마스 명절 한우케이크 선물 첫인사  144000      우리참한우   \n",
       "97             전라도 한우암소 1+등급 불고기용 400g (불고기 샤브샤브용 선택)   11200       진성한우   \n",
       "98                            [보령한우마트] 한우 우설 구이용 500g   45000    보령한우 여물   \n",
       "99                      마장동 1++한우 모듬 특수부위 600g 투뿔 소고기   59000        우메종   \n",
       "\n",
       "                                                 link category4  \n",
       "0   https://search.shopping.naver.com/gate.nhn?id=...        한우  \n",
       "1   https://search.shopping.naver.com/gate.nhn?id=...        한우  \n",
       "2   https://search.shopping.naver.com/gate.nhn?id=...        한우  \n",
       "3   https://search.shopping.naver.com/gate.nhn?id=...        한우  \n",
       "4   https://search.shopping.naver.com/gate.nhn?id=...        한우  \n",
       "..                                                ...       ...  \n",
       "95  https://search.shopping.naver.com/gate.nhn?id=...        한우  \n",
       "96  https://search.shopping.naver.com/gate.nhn?id=...        한우  \n",
       "97  https://search.shopping.naver.com/gate.nhn?id=...        한우  \n",
       "98  https://search.shopping.naver.com/gate.nhn?id=...        한우  \n",
       "99  https://search.shopping.naver.com/gate.nhn?id=...        한우  \n",
       "\n",
       "[100 rows x 5 columns]"
      ]
     },
     "execution_count": 3,
     "metadata": {},
     "output_type": "execute_result"
    }
   ],
   "source": [
    "import requests \n",
    "from pandas import DataFrame\n",
    "\n",
    "# 클라이언트 info\n",
    "CLIENT_ID = ''          # 네이버 open api ID 입력\n",
    "CLIENT_SECRET = ''      # 네이버 open api Secret 입력\n",
    "\n",
    "# 사용자 입력 받기\n",
    "keyword = input(\"쇼핑할 쇠고기 이름을 입력하세요: \")  # ex) 한우 \n",
    "display = int(input(\"최대 몇개까지 보여드릴까요?(최대값: 100): \"))  # ex) 100\n",
    "print(\"잠시만 기다려주세요\")\n",
    "\n",
    "# 네이버 쇼핑몰에 api request\n",
    "URL = f'https://openapi.naver.com/v1/search/shop.json?query={keyword}&sort=sim&display={display}'\n",
    "headers = {\n",
    "    'X-Naver-Client-Id' : CLIENT_ID,\n",
    "    'X-Naver-Client-Secret': CLIENT_SECRET\n",
    "}\n",
    "\n",
    "reqs = requests.get(URL, headers=headers).json()\n",
    "\n",
    "cnt = 0\n",
    "data = {'title' : [],\n",
    "        'lprice': [],\n",
    "        'mallName': [],\n",
    "        'link': [],\n",
    "        'category4': []\n",
    "       }\n",
    "\n",
    "# 검색 결과 dataFrame 생성\n",
    "# 검색 신뢰도를 높이기 위해 category3과 lprice가 5000원 이상(임의로 정함)인 상품만 df에 저장\n",
    "for items in reqs['items'] :\n",
    "    if (items['category3'] == '쇠고기') and (int(items['lprice']) > 5_000) :\n",
    "        data['title'].append(items['title'].replace('<b>', '').replace('</b>', ''))   # <b>과 </b> 제거 후 title에 저장\n",
    "        data['lprice'].append(int(items['lprice'])) \n",
    "        data['mallName'].append(items['mallName']) \n",
    "        data['link'].append(items['link']) \n",
    "        data['category4'].append(items['category4'])\n",
    "        cnt += 1\n",
    "\n",
    "frame = DataFrame(data)\n",
    "\n",
    "print(f\"총 {cnt} 건이 검색되었습니다.\")\n",
    "\n",
    "# 검색 결과 출력\n",
    "frame"
   ]
  },
  {
   "cell_type": "code",
   "execution_count": 4,
   "id": "8b214eb2-e714-4cba-b42a-6a633e661240",
   "metadata": {},
   "outputs": [
    {
     "data": {
      "text/html": [
       "<div>\n",
       "<style scoped>\n",
       "    .dataframe tbody tr th:only-of-type {\n",
       "        vertical-align: middle;\n",
       "    }\n",
       "\n",
       "    .dataframe tbody tr th {\n",
       "        vertical-align: top;\n",
       "    }\n",
       "\n",
       "    .dataframe thead th {\n",
       "        text-align: right;\n",
       "    }\n",
       "</style>\n",
       "<table border=\"1\" class=\"dataframe\">\n",
       "  <thead>\n",
       "    <tr style=\"text-align: right;\">\n",
       "      <th></th>\n",
       "      <th>lprice</th>\n",
       "    </tr>\n",
       "  </thead>\n",
       "  <tbody>\n",
       "    <tr>\n",
       "      <th>count</th>\n",
       "      <td>100.000000</td>\n",
       "    </tr>\n",
       "    <tr>\n",
       "      <th>mean</th>\n",
       "      <td>71122.600000</td>\n",
       "    </tr>\n",
       "    <tr>\n",
       "      <th>std</th>\n",
       "      <td>63211.577983</td>\n",
       "    </tr>\n",
       "    <tr>\n",
       "      <th>min</th>\n",
       "      <td>7900.000000</td>\n",
       "    </tr>\n",
       "    <tr>\n",
       "      <th>25%</th>\n",
       "      <td>21600.000000</td>\n",
       "    </tr>\n",
       "    <tr>\n",
       "      <th>50%</th>\n",
       "      <td>49450.000000</td>\n",
       "    </tr>\n",
       "    <tr>\n",
       "      <th>75%</th>\n",
       "      <td>109237.500000</td>\n",
       "    </tr>\n",
       "    <tr>\n",
       "      <th>max</th>\n",
       "      <td>399000.000000</td>\n",
       "    </tr>\n",
       "  </tbody>\n",
       "</table>\n",
       "</div>"
      ],
      "text/plain": [
       "              lprice\n",
       "count     100.000000\n",
       "mean    71122.600000\n",
       "std     63211.577983\n",
       "min      7900.000000\n",
       "25%     21600.000000\n",
       "50%     49450.000000\n",
       "75%    109237.500000\n",
       "max    399000.000000"
      ]
     },
     "execution_count": 4,
     "metadata": {},
     "output_type": "execute_result"
    }
   ],
   "source": [
    "# 데이터 분석(기술 통계)-1\n",
    "frame.describe()"
   ]
  },
  {
   "cell_type": "code",
   "execution_count": 5,
   "id": "9602e2f5-e574-4aec-b43a-f1867264dd1b",
   "metadata": {},
   "outputs": [
    {
     "data": {
      "text/plain": [
       "(7900, 399000, 49450.0)"
      ]
     },
     "execution_count": 5,
     "metadata": {},
     "output_type": "execute_result"
    }
   ],
   "source": [
    "# 데이터 분석(기술 통계)-2\n",
    "frame['lprice'].min(), frame['lprice'].max(), frame['lprice'].median()"
   ]
  },
  {
   "cell_type": "markdown",
   "id": "c3ced5b6-cd0c-4cd4-bea0-28f4c7e4085c",
   "metadata": {},
   "source": [
    "### 2. 최저가 쇼핑몰만 찾아서 dataFrame에 저장"
   ]
  },
  {
   "cell_type": "code",
   "execution_count": 6,
   "id": "340c5492-f472-462b-9823-6e80af35e54d",
   "metadata": {},
   "outputs": [
    {
     "data": {
      "text/html": [
       "<div>\n",
       "<style scoped>\n",
       "    .dataframe tbody tr th:only-of-type {\n",
       "        vertical-align: middle;\n",
       "    }\n",
       "\n",
       "    .dataframe tbody tr th {\n",
       "        vertical-align: top;\n",
       "    }\n",
       "\n",
       "    .dataframe thead th {\n",
       "        text-align: right;\n",
       "    }\n",
       "</style>\n",
       "<table border=\"1\" class=\"dataframe\">\n",
       "  <thead>\n",
       "    <tr style=\"text-align: right;\">\n",
       "      <th></th>\n",
       "      <th>mallName</th>\n",
       "      <th>title</th>\n",
       "      <th>lprice</th>\n",
       "      <th>link</th>\n",
       "    </tr>\n",
       "  </thead>\n",
       "  <tbody>\n",
       "    <tr>\n",
       "      <th>14</th>\n",
       "      <td>소소한형제</td>\n",
       "      <td>오늘썰은 육회 육사시미 뭉티기 200g [국내산 한우/육우] 마장동소고기 생고기 캠핑음식</td>\n",
       "      <td>7900</td>\n",
       "      <td>https://search.shopping.naver.com/gate.nhn?id=...</td>\n",
       "    </tr>\n",
       "  </tbody>\n",
       "</table>\n",
       "</div>"
      ],
      "text/plain": [
       "   mallName                                              title  lprice  \\\n",
       "14    소소한형제  오늘썰은 육회 육사시미 뭉티기 200g [국내산 한우/육우] 마장동소고기 생고기 캠핑음식    7900   \n",
       "\n",
       "                                                 link  \n",
       "14  https://search.shopping.naver.com/gate.nhn?id=...  "
      ]
     },
     "execution_count": 6,
     "metadata": {},
     "output_type": "execute_result"
    }
   ],
   "source": [
    "# 최저가, 최고가, 중위값 변수 저장\n",
    "min_lprice = frame['lprice'].min()\n",
    "max_lprice = frame['lprice'].max()\n",
    "mid_lprice = frame['lprice'].median()\n",
    "\n",
    "# 최저가 쇼핑몰을 정리한 신규 dataFrame 생성(lowest_price_malls)\n",
    "lowest_price_malls = frame[frame['lprice'] == min_lprice][['mallName', 'title', 'lprice', 'link']]\n",
    "lowest_price_malls"
   ]
  },
  {
   "cell_type": "markdown",
   "id": "5c3a31c3-1829-4b5e-bba4-df6f0ba9d3f1",
   "metadata": {},
   "source": [
    "### 3. 네이버 쇼핑 검색 결과 및 최저가 쇼핑몰 정보를 텔레그램에 전송"
   ]
  },
  {
   "cell_type": "code",
   "execution_count": 7,
   "id": "ef20ba5c-a9ba-49b8-893d-0dc6f6812d5c",
   "metadata": {},
   "outputs": [
    {
     "data": {
      "text/plain": [
       "<Response [200]>"
      ]
     },
     "execution_count": 7,
     "metadata": {},
     "output_type": "execute_result"
    }
   ],
   "source": [
    "# 텔레그램으로 전송\n",
    "\n",
    "# Bot 정보\n",
    "TOKEN = ''   # 내 텔레그램 bot 토큰값 입력\n",
    "\n",
    "# 내 정보\n",
    "MY_ID = ''   # 내 텔레그램 ID 입력\n",
    "\n",
    "# telegram bot URL\n",
    "telegramBotURL = f'https://api.telegram.org/bot{TOKEN}/sendMessage?chat_id='\n",
    "\n",
    "# 메세지 내용\n",
    "message1 = f'''\n",
    "네이버 쇼핑에서 {keyword} 검색결과 총 {cnt} 건 중 \n",
    "- 최저가: {min_lprice}원\n",
    "- 최고가: {max_lprice}원\n",
    "- 평균가: {mid_lprice}원\n",
    "'''\n",
    "\n",
    "message2 = f'''\n",
    "최저가 쇼핑몰 {lowest_price_malls['mallName'].iloc[0]}에서\n",
    "{lowest_price_malls['title'].iloc[0]}를 {lowest_price_malls['lprice'].iloc[0]}원에 판매 중!\n",
    "구입하러 가기 -> {lowest_price_malls['link'].iloc[0]}\n",
    "'''\n",
    "\n",
    "# 메세지 전송\n",
    "requests.get(telegramBotURL + MY_ID + '&text=' + message1) \n",
    "requests.get(telegramBotURL + MY_ID + '&text=' + message2) "
   ]
  },
  {
   "cell_type": "code",
   "execution_count": null,
   "id": "6eb49566-00f7-48dc-adcb-5611ed390e77",
   "metadata": {},
   "outputs": [],
   "source": []
  }
 ],
 "metadata": {
  "kernelspec": {
   "display_name": "Python 3 (ipykernel)",
   "language": "python",
   "name": "python3"
  },
  "language_info": {
   "codemirror_mode": {
    "name": "ipython",
    "version": 3
   },
   "file_extension": ".py",
   "mimetype": "text/x-python",
   "name": "python",
   "nbconvert_exporter": "python",
   "pygments_lexer": "ipython3",
   "version": "3.11.6"
  }
 },
 "nbformat": 4,
 "nbformat_minor": 5
}
